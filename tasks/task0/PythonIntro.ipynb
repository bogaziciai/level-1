{
 "cells": [
  {
   "cell_type": "markdown",
   "metadata": {
    "id": "FQJwIvXEgjRN"
   },
   "source": [
    "# Basics of Python, Numpy\n",
    "\n",
    "\n",
    "Ali Alp Gurer- aalp.gurer@gmail.com\n",
    "\n",
    "This is a great source to learn basics for python or review the content.\n",
    "\n",
    "The best practice is to create new cells from the + above and write down a similar exmaple on your own.\n",
    "\n"
   ]
  },
  {
   "cell_type": "markdown",
   "metadata": {
    "id": "upeBF1ErgjRQ"
   },
   "source": [
    "## Installation"
   ]
  },
  {
   "cell_type": "markdown",
   "metadata": {
    "id": "bIVzGU7pgjRS"
   },
   "source": [
    "https://www.anaconda.com/distribution, Check out the welcome email for more detailed infomation. If you are able to open this document, there should not be any problem."
   ]
  },
  {
   "cell_type": "markdown",
   "metadata": {
    "id": "nE-OEgcJgjRT"
   },
   "source": [
    "## Python basics"
   ]
  },
  {
   "cell_type": "markdown",
   "metadata": {
    "id": "5B6cCnq-gjRV"
   },
   "source": [
    "### Writing a comment"
   ]
  },
  {
   "cell_type": "code",
   "execution_count": 1,
   "metadata": {
    "id": "sD5qlqtdgjRV"
   },
   "outputs": [],
   "source": [
    "# This is how you comment things out. Type '#' followed by your text"
   ]
  },
  {
   "cell_type": "code",
   "execution_count": 2,
   "metadata": {
    "id": "M3ae-P80gjRW"
   },
   "outputs": [],
   "source": [
    "# Here is another example of a comment"
   ]
  },
  {
   "cell_type": "code",
   "execution_count": 3,
   "metadata": {
    "id": "J3z_pHg4gjRX"
   },
   "outputs": [],
   "source": [
    "# Now lets use comments"
   ]
  },
  {
   "cell_type": "code",
   "execution_count": 4,
   "metadata": {
    "colab": {
     "base_uri": "https://localhost:8080/"
    },
    "id": "W_z3yoXlgjRY",
    "outputId": "d5e7afcd-8754-4e2d-ccb2-b23389a2ad77",
    "scrolled": true
   },
   "outputs": [
    {
     "name": "stdout",
     "output_type": "stream",
     "text": [
      "3\n",
      "-1\n",
      "2\n",
      "0.5\n",
      "1\n",
      "3\n",
      "8\n"
     ]
    }
   ],
   "source": [
    "print(1 + 2) # Addition\n",
    "print(1 - 2) # Subtraction\n",
    "print(1 * 2) # Multiplication\n",
    "print(1 / 2) # Division\n",
    "print(10 % 3) # return the remainder\n",
    "print(10 // 3) # return the quotient\n",
    "print(2 ** 3) # number raised to the power"
   ]
  },
  {
   "cell_type": "markdown",
   "metadata": {
    "id": "s7Q3OrNFgjRZ"
   },
   "source": [
    "### Type and type conversion"
   ]
  },
  {
   "cell_type": "code",
   "execution_count": 5,
   "metadata": {
    "colab": {
     "base_uri": "https://localhost:8080/"
    },
    "id": "B8UreVwMgjRa",
    "outputId": "ae7430cd-6cf2-432d-d63d-8abc44a6bfe3"
   },
   "outputs": [
    {
     "name": "stdout",
     "output_type": "stream",
     "text": [
      "<class 'int'>\n",
      "<class 'float'>\n",
      "<class 'float'>\n"
     ]
    }
   ],
   "source": [
    "print(type(9))\n",
    "print(type(9.0))\n",
    "print(type(1+3.33))"
   ]
  },
  {
   "cell_type": "markdown",
   "metadata": {
    "id": "TjpCKaSfgjRb"
   },
   "source": [
    "### Variables "
   ]
  },
  {
   "cell_type": "markdown",
   "metadata": {
    "id": "ehmf3ZijgjRc"
   },
   "source": [
    "- Varialbes are assigned with the variable name on the left, and the value on the right of the equals sign. \n",
    "- Variables must be assigned before they can be used.\n",
    "- Can be reassigned any time\n",
    "- Variable name must start with a letter or underscore, cannot start with a number. Case sensitive.\n",
    "- Wrong examples: 2cats, hey@you"
   ]
  },
  {
   "cell_type": "code",
   "execution_count": 7,
   "metadata": {
    "colab": {
     "base_uri": "https://localhost:8080/"
    },
    "id": "iD2wENB7gjRc",
    "outputId": "06601bfe-018b-41c1-a983-eb845a9f7dfb"
   },
   "outputs": [
    {
     "name": "stdout",
     "output_type": "stream",
     "text": [
      "30\n",
      "200\n",
      "30\n",
      "30 40\n"
     ]
    }
   ],
   "source": [
    "num_1 = 10\n",
    "num_2 = 20\n",
    "print(num_1 + num_2)\n",
    "print(num_1 * num_2)\n",
    "num_2 = 30\n",
    "print(num_2)\n",
    "Num_2 = 40\n",
    "print(num_2, Num_2)"
   ]
  },
  {
   "cell_type": "markdown",
   "metadata": {
    "id": "4kae_nFggjRd"
   },
   "source": [
    "### Data Types"
   ]
  },
  {
   "cell_type": "markdown",
   "metadata": {
    "id": "SDF3WTAsgjRe"
   },
   "source": [
    "- bool : True or False\n",
    "- int: an integer\n",
    "- str: a sequence of Unicode characters, like \"friday\"\n",
    "- list: an ordered sequence of values of other data types\n",
    "- dict: a collection of key & values"
   ]
  },
  {
   "cell_type": "code",
   "execution_count": 8,
   "metadata": {
    "colab": {
     "base_uri": "https://localhost:8080/"
    },
    "id": "mV2UKXPigjRe",
    "outputId": "547589f1-afc2-4c14-cfa1-698ebfdc84e9"
   },
   "outputs": [
    {
     "name": "stdout",
     "output_type": "stream",
     "text": [
      "True\n",
      "False\n",
      "True\n"
     ]
    }
   ],
   "source": [
    "print(1 != 2) # not equal\n",
    "print(3 != 3)\n",
    "print(4 == 4) # equal to"
   ]
  },
  {
   "cell_type": "markdown",
   "metadata": {
    "id": "S50444cpgjRf"
   },
   "source": [
    "- \"==\" operator compares the values and checks for value equality. \n"
   ]
  },
  {
   "cell_type": "code",
   "execution_count": 9,
   "metadata": {
    "id": "8yStd7mCgjRg"
   },
   "outputs": [],
   "source": [
    "day = 'Friday' # string\n",
    "is_it_friday = True # bool"
   ]
  },
  {
   "cell_type": "code",
   "execution_count": 10,
   "metadata": {
    "colab": {
     "base_uri": "https://localhost:8080/"
    },
    "id": "hP5sbZPrgjRg",
    "outputId": "f316282e-f157-4c5f-e3ae-b456a2dbb602"
   },
   "outputs": [
    {
     "data": {
      "text/plain": [
       "True"
      ]
     },
     "execution_count": 10,
     "metadata": {
      "tags": []
     },
     "output_type": "execute_result"
    }
   ],
   "source": [
    "'Friday' == day"
   ]
  },
  {
   "cell_type": "markdown",
   "metadata": {
    "id": "izzWdiKwgjRh"
   },
   "source": [
    "### Length"
   ]
  },
  {
   "cell_type": "code",
   "execution_count": 11,
   "metadata": {
    "colab": {
     "base_uri": "https://localhost:8080/"
    },
    "id": "rcsFP8G0gjRh",
    "outputId": "0a6e5a66-e96d-47d7-cd1d-d6c2288d3e09"
   },
   "outputs": [
    {
     "name": "stdout",
     "output_type": "stream",
     "text": [
      "6\n"
     ]
    }
   ],
   "source": [
    "print(len(day)) # There are 6 characters in the word 'Friday'"
   ]
  },
  {
   "cell_type": "code",
   "execution_count": 12,
   "metadata": {
    "colab": {
     "base_uri": "https://localhost:8080/"
    },
    "id": "sNeLsnuxgjRi",
    "outputId": "220f2d7b-2de0-42f1-e737-16b5e0b336c8"
   },
   "outputs": [
    {
     "name": "stdout",
     "output_type": "stream",
     "text": [
      "3\n"
     ]
    }
   ],
   "source": [
    "print(len('day'))"
   ]
  },
  {
   "cell_type": "markdown",
   "metadata": {
    "id": "v43072TEgjRj"
   },
   "source": [
    "### Length of a sentence"
   ]
  },
  {
   "cell_type": "code",
   "execution_count": 13,
   "metadata": {
    "colab": {
     "base_uri": "https://localhost:8080/"
    },
    "id": "RoKGQdGvgjRj",
    "outputId": "7af3b2ee-2824-49ad-d077-e07f009c91ba"
   },
   "outputs": [
    {
     "name": "stdout",
     "output_type": "stream",
     "text": [
      "18\n"
     ]
    }
   ],
   "source": [
    "print(len('Ah, Welcome class!')) # space, symbols, numbers are counted as characters"
   ]
  },
  {
   "cell_type": "markdown",
   "metadata": {
    "id": "EEZu8eaWgjRk"
   },
   "source": [
    "### Strings\n",
    "\n",
    "- can be declared with either single or double quotes"
   ]
  },
  {
   "cell_type": "code",
   "execution_count": 14,
   "metadata": {
    "colab": {
     "base_uri": "https://localhost:8080/"
    },
    "id": "BYqrQwbQgjRk",
    "outputId": "665ddcb7-9b47-49cf-9898-7ea75dcc40e5"
   },
   "outputs": [
    {
     "name": "stdout",
     "output_type": "stream",
     "text": [
      "1\n",
      "2\n",
      "city : PIT\n",
      "10\n",
      "t\n",
      "[' ', ' ', ':', 'I', 'P', 'T', 'c', 'i', 't', 'y']\n",
      "['y', 't', 'i', 'c', 'T', 'P', 'I', ':', ' ', ' ']\n",
      "DL for Engineers: 24789 ! \n",
      "DL for Engineers: 24789 !\n",
      "DL for Engineers: 24789 !\n"
     ]
    }
   ],
   "source": [
    "txt = \"I need more and more holidays\" \n",
    "# count method\n",
    "x = txt.count(\"holidays\") # returns a number equal to the number of occurrences of the word entered\n",
    "y = txt.count(\"more\")\n",
    "print(x)\n",
    "print(y)\n",
    "# String concatenation\n",
    "str_one = \"city\"\n",
    "str_two = \"PIT\"\n",
    "str_all = str_one + \" : \" + str_two\n",
    "print(str_all)\n",
    "print(len(str_all))\n",
    "print(str_all[2])\n",
    "\n",
    "# Operations on string\n",
    "str_all_sorted = sorted(str_all)\n",
    "print(str_all_sorted)\n",
    "# Here is an example of sorting in the reverse direction\n",
    "str_all_sorted_reverse = sorted(str_all, reverse = True)\n",
    "print(str_all_sorted_reverse)\n",
    "\n",
    "# Formatting\n",
    "course_number = 24789\n",
    "formatted = f\"DL for Engineers: {course_number} ! \" # Python 3.6+\n",
    "formatted2 = \"DL for Engineers: {} !\".format(course_number) # Python 2 -> 3.5\n",
    "print(formatted)\n",
    "print(formatted2)\n",
    "# Another way of printing the same sentence\n",
    "print(\"DL for Engineers:\",course_number, '!')"
   ]
  },
  {
   "cell_type": "markdown",
   "metadata": {
    "id": "NcXc1UfVgjRl"
   },
   "source": [
    "# Lists"
   ]
  },
  {
   "cell_type": "code",
   "execution_count": 49,
   "metadata": {
    "colab": {
     "base_uri": "https://localhost:8080/"
    },
    "id": "-cSTOfCjgjRm",
    "outputId": "cc417071-5d91-45cf-cd08-1693acc00b7b"
   },
   "outputs": [
    {
     "name": "stdout",
     "output_type": "stream",
     "text": [
      "<class 'str'>\n",
      "['aaa', 'bbb', 'ccc', 'ddd']\n",
      "['aaa', 'bbb', 'ccc', 'ddd', 'More objects', ['List inside a list!']]\n",
      "\n",
      "Length before adding another_list 4 \n",
      "\n",
      "Length after adding another_list 6 \n",
      "\n",
      "['aaa', 'bbb', 'ccc', 'ddd', 'More objects', ['List inside a list!'], 'More objects', ['List inside a list!']]\n"
     ]
    }
   ],
   "source": [
    "# Lists - can store anything\n",
    "list_of_things = [] # Initializing an empty list\n",
    "\n",
    "### \n",
    "list_of_things.append('aaa')\n",
    "list_of_things.append('bbb')\n",
    "list_of_things.append('ccc')\n",
    "list_of_things.append('ddd')\n",
    "###\n",
    "\n",
    "# Accessing objects\n",
    "print(type(list_of_things[3]))\n",
    "\n",
    "# Print the list\n",
    "print(list_of_things)\n",
    "\n",
    "# Create another list\n",
    "another_list = ['More objects', ['List inside a list!']]\n",
    "\n",
    "# Merge the lists\n",
    "third_lists = list_of_things + another_list\n",
    "print(third_lists)\n",
    "\n",
    "# Extend list_of_things\n",
    "print('\\nLength before adding another_list',len(list_of_things),'\\n')\n",
    "list_of_things.extend(another_list)\n",
    "print('Length after adding another_list',len(list_of_things),'\\n')\n",
    "\n",
    "list_of_things+=another_list # list_of_things = list_of_things + another_list\n",
    "print(list_of_things)\n"
   ]
  },
  {
   "cell_type": "markdown",
   "metadata": {
    "id": "tWQPGMC4gjRn"
   },
   "source": [
    "### List slicing and join"
   ]
  },
  {
   "cell_type": "markdown",
   "metadata": {
    "id": "vv9SFjyggjRn"
   },
   "source": [
    "#### some_list[start : end : step]: like range but separated by colons"
   ]
  },
  {
   "cell_type": "code",
   "execution_count": 50,
   "metadata": {
    "colab": {
     "base_uri": "https://localhost:8080/"
    },
    "id": "eSOvQgFcgjRo",
    "outputId": "75444041-5cfb-41b5-a1a4-241f240be1f8"
   },
   "outputs": [
    {
     "name": "stdout",
     "output_type": "stream",
     "text": [
      "6\n",
      "red\n",
      "['red', 'blue', 'green', 'yellow', 'purple']\n",
      "['red', 'blue', 'green', 'yellow', 'purple']\n",
      "['green', 'yellow', 'purple']\n",
      "['green', 'yellow', 'purple', 'indigo']\n",
      "['red', 'green', 'purple']\n",
      "['indigo', 'purple', 'yellow', 'green', 'blue', 'red']\n",
      "ogidni\n",
      "Python.Is.Great\n"
     ]
    }
   ],
   "source": [
    "colors = ['red','blue','green','yellow','purple','indigo']\n",
    "print(len(colors))\n",
    "# Python indices start at 0\n",
    "print(colors[0])\n",
    "print(colors[:5])\n",
    "print(colors[0:5])\n",
    "print(colors[2:-1])\n",
    "print(colors[2:])\n",
    "print(colors[::2])\n",
    "print(colors[::-1])\n",
    "print(colors[5][::-1])\n",
    "\n",
    "# Join (a string method)\n",
    "words = [\"Python\",\"Is\",\"Great\"]\n",
    "words =\".\".join(words)\n",
    "print(words)\n"
   ]
  },
  {
   "cell_type": "markdown",
   "metadata": {
    "id": "g9SSqzGdgjRo"
   },
   "source": [
    "### Boolean and condition"
   ]
  },
  {
   "cell_type": "markdown",
   "metadata": {
    "id": "_IU_sD1jgjRq"
   },
   "source": [
    "### if elif else\n",
    "change the color to purple and red and run the code again"
   ]
  },
  {
   "cell_type": "code",
   "execution_count": 53,
   "metadata": {
    "id": "fTVK50KjgjRq",
    "scrolled": true
   },
   "outputs": [
    {
     "name": "stdout",
     "output_type": "stream",
     "text": [
      "Thats new!\n"
     ]
    }
   ],
   "source": [
    "color = 'yellow'\n",
    "if color == \"purple\":\n",
    "    print(\"great choice\")\n",
    "elif color == \"red\":\n",
    "    print(\"I like how you think\")\n",
    "elif color == \"pink\":\n",
    "    print(\"not bad\")\n",
    "else:\n",
    "    print('Thats new!')"
   ]
  },
  {
   "cell_type": "markdown",
   "metadata": {
    "id": "lAYNYjWDgjRp"
   },
   "source": [
    "# <font color='red'> Exercise:</font>\n",
    "- age < 18 : cannot vote\n",
    "- age => 18 : can vote\n",
    "\n",
    "Code the above example, if age is less than 18, print cannot vote, otherwise print can vote "
   ]
  },
  {
   "cell_type": "code",
   "execution_count": null,
   "metadata": {
    "colab": {
     "base_uri": "https://localhost:8080/"
    },
    "id": "BHP3_m-CgjRp",
    "outputId": "7c9807df-fe0d-4149-ac29-f61ea23e4b2e"
   },
   "outputs": [],
   "source": []
  },
  {
   "cell_type": "markdown",
   "metadata": {
    "id": "ocTacuqLgjRr"
   },
   "source": [
    "### Looping"
   ]
  },
  {
   "cell_type": "markdown",
   "metadata": {
    "id": "BDihTqROgjRs"
   },
   "source": [
    "#### General Form :\n",
    "#### for item in iterable_object:\n",
    "      do something with item\n",
    "    \n",
    "- item is a new variable that you can call it whatever\n",
    "- item references the current position of our iterator within the iterable"
   ]
  },
  {
   "cell_type": "markdown",
   "metadata": {
    "id": "MEeyZlhHgjRs"
   },
   "source": [
    "### Ranges"
   ]
  },
  {
   "cell_type": "markdown",
   "metadata": {
    "id": "xXN-CHm3gjRt"
   },
   "source": [
    "- A range is just a slice of number line.\n",
    "- Ex: range (1,8) will give you integers from 1 to 7"
   ]
  },
  {
   "cell_type": "code",
   "execution_count": null,
   "metadata": {
    "colab": {
     "base_uri": "https://localhost:8080/"
    },
    "id": "_4dF6lrkgjRt",
    "outputId": "5ff8ba75-034a-4be9-a753-6374370b529a"
   },
   "outputs": [
    {
     "name": "stdout",
     "output_type": "stream",
     "text": [
      "[0, 1, 2, 3, 4, 5, 6, 7, 8, 9]\n",
      "[1, 2, 3, 4, 5, 6, 7, 8, 9]\n",
      "[1, 3, 5, 7, 9]\n",
      "[0, 2, 4, 6, 8]\n"
     ]
    }
   ],
   "source": [
    "numbers = range(10)\n",
    "print(list(numbers)) # It starts with zero and excludes the number 10\n",
    "numbers = range(1,10)\n",
    "print(list(numbers)) # It starts with one and excludes the number 10\n",
    "odd = range(1,10,2) # start, end, step\n",
    "print(list(odd)) #It starts with 1 and takes a step of 2\n",
    "even = range(0,10,2) # start, end, step\n",
    "print(list(even)) #It starts with 0 and takes a step of 2"
   ]
  },
  {
   "cell_type": "markdown",
   "metadata": {
    "id": "Bg5tQyHfgjRu"
   },
   "source": [
    "# <font color='red'>Exercise</font> \n",
    "Use a for loop to add up every odd number from 10 to 20 (inclusive)"
   ]
  },
  {
   "cell_type": "code",
   "execution_count": 16,
   "metadata": {
    "colab": {
     "base_uri": "https://localhost:8080/"
    },
    "id": "k6j0VqPQgjRv",
    "outputId": "df06294a-4298-45e2-8535-b49fed130e8c"
   },
   "outputs": [
    {
     "name": "stdout",
     "output_type": "stream",
     "text": [
      "11\n",
      "13\n",
      "15\n",
      "17\n",
      "19\n",
      "Sum of the numbers:  75\n"
     ]
    }
   ],
   "source": [
    "add = 0\n",
    "\n",
    "##Exercise: Use a for loop to add up every odd number from 10 to 20 (inclusive)\n",
    "\n",
    "\n",
    "\n",
    "\n",
    "\n",
    "\n",
    "##\n",
    "print('Sum of the numbers: ',add)     "
   ]
  },
  {
   "cell_type": "code",
   "execution_count": 57,
   "metadata": {
    "id": "IUCULCLGgjRw"
   },
   "outputs": [
    {
     "name": "stdout",
     "output_type": "stream",
     "text": [
      "[10, 11, 12, 13, 14, 15, 16, 17, 18, 19]\n",
      "number is :  10\n",
      "but i is : 0\n",
      "number is :  11\n",
      "but i is : 1\n",
      "number is :  12\n",
      "but i is : 2\n",
      "number is :  13\n",
      "but i is : 3\n",
      "number is :  14\n",
      "but i is : 4\n",
      "number is :  15\n",
      "but i is : 5\n",
      "number is :  16\n",
      "but i is : 6\n",
      "number is :  17\n",
      "but i is : 7\n",
      "number is :  18\n",
      "but i is : 8\n",
      "number is :  19\n",
      "but i is : 9\n"
     ]
    }
   ],
   "source": [
    "\n",
    "numbers = range(10,20)\n",
    "print(list(numbers)) # It starts with zero and excludes the number 10\n",
    "i=0\n",
    "while i<len(numbers):\n",
    "    print('number is : ',numbers[i])\n",
    "    print('but i is :',i)\n",
    "    i=i+1\n",
    "\n",
    "\n"
   ]
  },
  {
   "cell_type": "markdown",
   "metadata": {
    "id": "H8ZC9H_vgjRx"
   },
   "source": [
    "### List Comprehension:"
   ]
  },
  {
   "cell_type": "markdown",
   "metadata": {
    "id": "3eSj8PxzgjRx"
   },
   "source": [
    "- A shorthand syntex that allows us to generate new list"
   ]
  },
  {
   "cell_type": "markdown",
   "metadata": {
    "id": "-GiAwzp0gjRy"
   },
   "source": [
    "Looping vs List Comprehension"
   ]
  },
  {
   "cell_type": "code",
   "execution_count": null,
   "metadata": {
    "id": "zpc8tE6PgjRy"
   },
   "outputs": [],
   "source": [
    "numbers = [1,2,3,4,5]\n",
    "doubled_numbers = []\n",
    "\n",
    "for num in numbers:\n",
    "    doubled_numbers.append(num * 2)\n",
    "    \n",
    "print(doubled_numbers)"
   ]
  },
  {
   "cell_type": "code",
   "execution_count": null,
   "metadata": {
    "id": "rIofxCw8gjRz"
   },
   "outputs": [],
   "source": [
    "numbers = [1,2,3,4,5]\n",
    "\n",
    "doubled_numbers = [num * 2 for num in numbers]\n",
    "    \n",
    "print(doubled_numbers)"
   ]
  },
  {
   "cell_type": "code",
   "execution_count": null,
   "metadata": {
    "id": "TBHekR6TgjRz"
   },
   "outputs": [],
   "source": [
    "numbers = [4,5,6,7,8,9,10]\n",
    "evens = [num for num in numbers if num % 2 == 0]\n",
    "odds = [num for num in numbers if num % 2 != 0]\n",
    "print(evens, odds)"
   ]
  },
  {
   "cell_type": "markdown",
   "metadata": {
    "id": "me3GTdVzgjR0"
   },
   "source": [
    "### Dictionaries"
   ]
  },
  {
   "cell_type": "markdown",
   "metadata": {
    "id": "ltS1vOhMgjR0"
   },
   "source": [
    "- A data structure that contains key-value pairs\n",
    "- Keys and values are separated by colons\n",
    "- Keys are almost always numnbers or strings\n",
    "- Note: dictionary doesnt have a specific order, unlike a list\n",
    "\n",
    "- update: Update keys and values in a dict with another set of key value pairs."
   ]
  },
  {
   "cell_type": "code",
   "execution_count": null,
   "metadata": {
    "id": "ufEz5dE5gjR1"
   },
   "outputs": [],
   "source": [
    "first = dict(a=1,b=2,c=3,d=4)\n",
    "second = {}\n",
    "second.update(first)\n",
    "print(second)\n",
    "# Overwrite an existing ket\n",
    "second[\"a\"]= \"AMAZING\"\n",
    "print(second)"
   ]
  },
  {
   "cell_type": "code",
   "execution_count": null,
   "metadata": {
    "id": "WDao6yMCgjR2"
   },
   "outputs": [],
   "source": [
    "cmu = {\n",
    "    'founder': \"Andrew Carnegie\",\n",
    "    'private school?': True,\n",
    "    'acceptance rate':0.2,\n",
    "     4:\"number of other campuses\"\n",
    "}\n",
    "print(cmu)\n",
    "print(cmu[\"founder\"])\n",
    "print(cmu[\"mascot\"])"
   ]
  },
  {
   "cell_type": "markdown",
   "metadata": {
    "id": "LauX2yppgjR2"
   },
   "source": [
    "### Accessing all values in a dictionary"
   ]
  },
  {
   "cell_type": "markdown",
   "metadata": {
    "id": "rwwEht89gjR3"
   },
   "source": [
    "- Access value: Use .values()"
   ]
  },
  {
   "cell_type": "code",
   "execution_count": null,
   "metadata": {
    "id": "_pY-R0fogjR3",
    "scrolled": true
   },
   "outputs": [],
   "source": [
    "for value in cmu.values():\n",
    "    print(value)"
   ]
  },
  {
   "cell_type": "markdown",
   "metadata": {
    "id": "CGZ4kw-mgjR4"
   },
   "source": [
    "- Access key: Use .keys()"
   ]
  },
  {
   "cell_type": "code",
   "execution_count": null,
   "metadata": {
    "id": "kNZWAqGKgjR4",
    "scrolled": true
   },
   "outputs": [],
   "source": [
    "for key in cmu.keys():\n",
    "    print(key)"
   ]
  },
  {
   "cell_type": "markdown",
   "metadata": {
    "id": "lKghv7hfgjR5"
   },
   "source": [
    "- Access both: .items()"
   ]
  },
  {
   "cell_type": "code",
   "execution_count": null,
   "metadata": {
    "id": "BK8DXGJMgjR5",
    "scrolled": true
   },
   "outputs": [],
   "source": [
    "for key,value in cmu.items():\n",
    "    print(key, \":\", value)"
   ]
  },
  {
   "cell_type": "markdown",
   "metadata": {
    "id": "ElqxNxtpgjR6"
   },
   "source": [
    "- Test if a key exists: Use \"in\""
   ]
  },
  {
   "cell_type": "code",
   "execution_count": null,
   "metadata": {
    "id": "ggIYOUYogjR7",
    "scrolled": true
   },
   "outputs": [],
   "source": [
    "print(\"founder\" in cmu)\n",
    "print(\"good sleep\" in cmu)"
   ]
  },
  {
   "cell_type": "markdown",
   "metadata": {
    "id": "CmJ-oVWqgjR9"
   },
   "source": [
    "### Dictionary Methods"
   ]
  },
  {
   "cell_type": "markdown",
   "metadata": {
    "id": "UZBkJ2IagjR-"
   },
   "source": [
    "- pop: Takes a single arguement corresponding to a ket and removes that key-value pair from the dict. Returns the value corresponding to the key that was removed."
   ]
  },
  {
   "cell_type": "code",
   "execution_count": null,
   "metadata": {
    "id": "8lfNiDnogjR_"
   },
   "outputs": [],
   "source": [
    "d = dict(a=1,b=2,c=3)\n",
    "d.pop(\"a\") # 1\n",
    "d.pop() # TypeError: pop expected at least 1 arguement"
   ]
  },
  {
   "cell_type": "markdown",
   "metadata": {
    "id": "5I6e7gacgjR_"
   },
   "source": [
    "## Introductory Example: Implementing with Lists "
   ]
  },
  {
   "cell_type": "markdown",
   "metadata": {
    "id": "-9c9RVj_gjSA"
   },
   "source": [
    "To know the difference between an array and a list please Google ;)\n",
    "\n",
    "This blog also provides a good explanation : https://medium.com/backticks-tildes/list-vs-array-python-data-type-40ac4f294551"
   ]
  },
  {
   "cell_type": "code",
   "execution_count": 1,
   "metadata": {
    "id": "mTHI9ySdgjSB"
   },
   "outputs": [],
   "source": [
    "# Inputs\n",
    "# Now that we know what a list is lets use it to do a simple calculation\n",
    "theta_1 = [[2, 1, 3],\n",
    "     [1, 2, 3],\n",
    "     [3, 1, 2]]\n",
    "\n",
    "x = [7, 8, 5]\n",
    "theta_0 = [1, 1, 1]\n",
    "\n",
    "# Output\n",
    "y = [0, 0, 0]\n",
    "\n"
   ]
  },
  {
   "cell_type": "markdown",
   "metadata": {},
   "source": [
    "#  <font color='red'> Exercise </font> \n",
    "Computation of y = theta_1*x + theta_0 hint: you can use two FOR LOOPs  "
   ]
  },
  {
   "cell_type": "code",
   "execution_count": null,
   "metadata": {},
   "outputs": [],
   "source": [
    "##### Computation of y = theta_1*x + theta_0  IKI TANE FOR LOOP YARATILMASI LAZIM\n",
    "\n",
    "\n",
    "\n",
    "\n",
    "\n",
    "\n",
    "\n",
    "#####"
   ]
  },
  {
   "cell_type": "markdown",
   "metadata": {
    "id": "vahB6dJ7gjSC"
   },
   "source": [
    "# <font color='green'>What is NumPy?</font> "
   ]
  },
  {
   "cell_type": "markdown",
   "metadata": {
    "id": "13UuoyNMgjSC"
   },
   "source": [
    "If you have installed Anaconda correctly, Numpy should come with it. Just in case, if numpy is not installed please follow instructions at https://scipy.org/install.html"
   ]
  },
  {
   "cell_type": "markdown",
   "metadata": {
    "id": "aQebz_JNgjSD"
   },
   "source": [
    "### NumPy-based Vectorized Implementation"
   ]
  },
  {
   "cell_type": "code",
   "execution_count": 2,
   "metadata": {
    "id": "adhT4ppOgjSD"
   },
   "outputs": [],
   "source": [
    "import numpy as np"
   ]
  },
  {
   "cell_type": "code",
   "execution_count": 3,
   "metadata": {
    "colab": {
     "base_uri": "https://localhost:8080/"
    },
    "id": "q4FYHtwigjSE",
    "outputId": "6d328bf7-971c-4795-8d30-a5f81abba03b"
   },
   "outputs": [
    {
     "data": {
      "text/plain": [
       "(array([[2, 1, 3],\n",
       "        [1, 2, 3],\n",
       "        [3, 1, 2]]),\n",
       " (3, 3))"
      ]
     },
     "execution_count": 3,
     "metadata": {},
     "output_type": "execute_result"
    }
   ],
   "source": [
    "theta_1 = np.array([[2, 1, 3],\n",
    "     [1, 2, 3],\n",
    "     [3, 1, 2]])\n",
    "\n",
    "theta_1, theta_1.shape"
   ]
  },
  {
   "cell_type": "code",
   "execution_count": 4,
   "metadata": {
    "id": "GH243e3JgjSF"
   },
   "outputs": [
    {
     "data": {
      "text/plain": [
       "(3,)"
      ]
     },
     "execution_count": 4,
     "metadata": {},
     "output_type": "execute_result"
    }
   ],
   "source": [
    "x = np.array([7, 8, 5])\n",
    "x.shape"
   ]
  },
  {
   "cell_type": "code",
   "execution_count": 5,
   "metadata": {
    "id": "Y9kuWr7MgjSG"
   },
   "outputs": [
    {
     "data": {
      "text/plain": [
       "array([1., 1., 1.])"
      ]
     },
     "execution_count": 5,
     "metadata": {},
     "output_type": "execute_result"
    }
   ],
   "source": [
    "theta_0 = np.ones(3)\n",
    "theta_0"
   ]
  },
  {
   "cell_type": "code",
   "execution_count": 6,
   "metadata": {
    "id": "firMwD23gjSH",
    "scrolled": true
   },
   "outputs": [
    {
     "data": {
      "text/plain": [
       "array([37, 38, 39])"
      ]
     },
     "execution_count": 6,
     "metadata": {},
     "output_type": "execute_result"
    }
   ],
   "source": [
    "theta_1.dot(x)"
   ]
  },
  {
   "cell_type": "code",
   "execution_count": 7,
   "metadata": {
    "id": "M2KgDDYmgjSH"
   },
   "outputs": [
    {
     "data": {
      "text/plain": [
       "array([37, 38, 39])"
      ]
     },
     "execution_count": 7,
     "metadata": {},
     "output_type": "execute_result"
    }
   ],
   "source": [
    "np.matmul(theta_1,x)"
   ]
  },
  {
   "cell_type": "code",
   "execution_count": 8,
   "metadata": {
    "id": "un59WjQ-gjSI"
   },
   "outputs": [
    {
     "data": {
      "text/plain": [
       "array([38., 39., 40.])"
      ]
     },
     "execution_count": 8,
     "metadata": {},
     "output_type": "execute_result"
    }
   ],
   "source": [
    "np.matmul(theta_1,x) + theta_0"
   ]
  },
  {
   "cell_type": "code",
   "execution_count": 9,
   "metadata": {
    "id": "hpSjnhRPgjSI"
   },
   "outputs": [
    {
     "data": {
      "text/plain": [
       "array([38., 39., 40.])"
      ]
     },
     "execution_count": 9,
     "metadata": {},
     "output_type": "execute_result"
    }
   ],
   "source": [
    "theta_1@x + theta_0"
   ]
  },
  {
   "cell_type": "markdown",
   "metadata": {
    "id": "-sCRV3GKgjSJ"
   },
   "source": [
    "## Multi-Dimensional Arrays"
   ]
  },
  {
   "cell_type": "code",
   "execution_count": 10,
   "metadata": {
    "id": "MOTZJ0z8gjSJ",
    "scrolled": true
   },
   "outputs": [
    {
     "data": {
      "text/plain": [
       "array([[[0.14980509, 0.450997  , 0.33427488, 0.16297464],\n",
       "        [0.94887636, 0.7152355 , 0.65082539, 0.74092072]],\n",
       "\n",
       "       [[0.04726837, 0.86000031, 0.93485077, 0.54660975],\n",
       "        [0.58170265, 0.25526767, 0.39363011, 0.27766722]],\n",
       "\n",
       "       [[0.37047987, 0.83059382, 0.7260046 , 0.58868834],\n",
       "        [0.61310118, 0.52484631, 0.90382471, 0.03257181]],\n",
       "\n",
       "       [[0.22013257, 0.18198093, 0.68079773, 0.99498777],\n",
       "        [0.84923069, 0.74113169, 0.5017009 , 0.94336119]]])"
      ]
     },
     "execution_count": 10,
     "metadata": {},
     "output_type": "execute_result"
    }
   ],
   "source": [
    "T = np.random.random((4,2,4)) # Creates an array of random numbers between 0 and 1 of the given shape\n",
    "T"
   ]
  },
  {
   "cell_type": "markdown",
   "metadata": {
    "id": "yvuRtYBRgjSK"
   },
   "source": [
    "### Random seed"
   ]
  },
  {
   "cell_type": "code",
   "execution_count": null,
   "metadata": {
    "id": "BsfaiLwzgjSK"
   },
   "outputs": [],
   "source": [
    "T = np.random.random((2,2)) # Creates an array of random numbers between 0 and 1 of the given shape\n",
    "print(T)\n",
    "\n",
    "np.random.seed(24878)\n",
    "T = np.random.random((2,2)) # Now, all the random numbers are fixed as per the seed\n",
    "print(T)"
   ]
  },
  {
   "cell_type": "code",
   "execution_count": null,
   "metadata": {
    "id": "QEGCtgmsgjSL"
   },
   "outputs": [],
   "source": [
    "np.random.seed(24878)\n",
    "T = np.random.random((2,2))\n",
    "print(T)"
   ]
  },
  {
   "cell_type": "code",
   "execution_count": null,
   "metadata": {
    "id": "nOXicV7sgjSL"
   },
   "outputs": [],
   "source": [
    "W = T[1]\n",
    "W.shape, W.dtype"
   ]
  },
  {
   "cell_type": "code",
   "execution_count": null,
   "metadata": {
    "id": "I4j69S2cgjSM"
   },
   "outputs": [],
   "source": [
    "X = np.full((4,3), 24787, dtype=np.int32) # prints out the same in all dimension # remember it is a matrix multiplication for 2D \n",
    "X.shape, X.dtype,X"
   ]
  },
  {
   "cell_type": "markdown",
   "metadata": {
    "id": "3d_urC50gjSM"
   },
   "source": [
    "## Basic Element-wise Operations"
   ]
  },
  {
   "cell_type": "code",
   "execution_count": null,
   "metadata": {
    "colab": {
     "base_uri": "https://localhost:8080/"
    },
    "id": "JYbNt6qRgjSN",
    "outputId": "5024cd93-48bd-4160-ed91-463e59325b88",
    "scrolled": true
   },
   "outputs": [
    {
     "name": "stdout",
     "output_type": "stream",
     "text": [
      "[0 1 2 3 4] [0 1 2 3 4]\n"
     ]
    }
   ],
   "source": [
    "y = np.arange(5)\n",
    "print(y, np.array(range(5)))"
   ]
  },
  {
   "cell_type": "code",
   "execution_count": null,
   "metadata": {
    "colab": {
     "base_uri": "https://localhost:8080/"
    },
    "id": "ODNjVMg5gjSN",
    "outputId": "c72fde73-27ce-4e1d-96f9-b13b63b2640d"
   },
   "outputs": [
    {
     "data": {
      "text/plain": [
       "array([ True,  True,  True,  True,  True])"
      ]
     },
     "execution_count": 30,
     "metadata": {
      "tags": []
     },
     "output_type": "execute_result"
    }
   ],
   "source": [
    "y == np.array(range(5))"
   ]
  },
  {
   "cell_type": "code",
   "execution_count": null,
   "metadata": {
    "colab": {
     "base_uri": "https://localhost:8080/"
    },
    "id": "urb0W6GCgjSO",
    "outputId": "ccb45bbf-355c-4ee9-e710-7ce94adaf8c1"
   },
   "outputs": [
    {
     "data": {
      "text/plain": [
       "array([1, 2, 3, 4, 5])"
      ]
     },
     "execution_count": 32,
     "metadata": {
      "tags": []
     },
     "output_type": "execute_result"
    }
   ],
   "source": [
    "y + 1"
   ]
  },
  {
   "cell_type": "code",
   "execution_count": null,
   "metadata": {
    "id": "VJh_OHn5gjSO"
   },
   "outputs": [],
   "source": [
    "y * 10"
   ]
  },
  {
   "cell_type": "code",
   "execution_count": null,
   "metadata": {
    "id": "9b1Cua2sgjSP"
   },
   "outputs": [],
   "source": [
    "(y + 1)**2"
   ]
  },
  {
   "cell_type": "code",
   "execution_count": null,
   "metadata": {
    "id": "UqNPc9FOgjSP"
   },
   "outputs": [],
   "source": [
    "y + y"
   ]
  },
  {
   "cell_type": "code",
   "execution_count": null,
   "metadata": {
    "id": "o0wsi0OfgjSQ"
   },
   "outputs": [],
   "source": [
    "y / (y + 1)"
   ]
  },
  {
   "cell_type": "markdown",
   "metadata": {
    "id": "F90xKBqCsLrE"
   },
   "source": []
  },
  {
   "cell_type": "code",
   "execution_count": null,
   "metadata": {
    "id": "x8RZiRKigjSQ"
   },
   "outputs": [],
   "source": [
    "np.sqrt(y**2)"
   ]
  },
  {
   "cell_type": "code",
   "execution_count": null,
   "metadata": {
    "id": "3nl1kNlagjSR"
   },
   "outputs": [],
   "source": [
    "np.max(y), np.min(y), np.sum(y)"
   ]
  },
  {
   "cell_type": "markdown",
   "metadata": {
    "id": "6NT8rRNngjSR"
   },
   "source": [
    "## Indexing NumPy Arrays"
   ]
  },
  {
   "cell_type": "code",
   "execution_count": null,
   "metadata": {
    "id": "RcZ5W6RJgjSS"
   },
   "outputs": [],
   "source": [
    "np.save('AI.npy', np.arange(16).reshape(4,4))"
   ]
  },
  {
   "cell_type": "code",
   "execution_count": null,
   "metadata": {
    "colab": {
     "base_uri": "https://localhost:8080/"
    },
    "id": "4qhki4pBgjSS",
    "outputId": "fad66d46-65cf-49fa-9df7-011e51dde9d2",
    "scrolled": true
   },
   "outputs": [
    {
     "data": {
      "text/plain": [
       "(array([[ 0,  1,  2,  3],\n",
       "        [ 4,  5,  6,  7],\n",
       "        [ 8,  9, 10, 11],\n",
       "        [12, 13, 14, 15]]), (4, 4))"
      ]
     },
     "execution_count": 35,
     "metadata": {
      "tags": []
     },
     "output_type": "execute_result"
    }
   ],
   "source": [
    "T = np.load('AI.npy')\n",
    "T,  T.shape"
   ]
  },
  {
   "cell_type": "code",
   "execution_count": null,
   "metadata": {
    "id": "dfSyCqZKgjST"
   },
   "outputs": [],
   "source": [
    "T[0]"
   ]
  },
  {
   "cell_type": "code",
   "execution_count": null,
   "metadata": {
    "id": "Cmu8P9kpgjST"
   },
   "outputs": [],
   "source": [
    "T[1,0]  # more efficient version of T[1][0]# a similar approach can be used for N-d arrays "
   ]
  },
  {
   "cell_type": "code",
   "execution_count": null,
   "metadata": {
    "id": "RmGhqpahgjSU"
   },
   "outputs": [],
   "source": [
    "T[0,0:3] # selecting the specific elements for operations "
   ]
  },
  {
   "cell_type": "code",
   "execution_count": null,
   "metadata": {
    "id": "r2Z6o3-6gjSU"
   },
   "outputs": [],
   "source": [
    "(T % 10) == 0"
   ]
  },
  {
   "cell_type": "code",
   "execution_count": null,
   "metadata": {
    "id": "t7cOIhWggjSV"
   },
   "outputs": [],
   "source": [
    "T[(T % 10) == 0] "
   ]
  },
  {
   "cell_type": "code",
   "execution_count": null,
   "metadata": {
    "id": "okbJ-ykCgjSV",
    "scrolled": false
   },
   "outputs": [],
   "source": [
    "np.minimum(T, 5)"
   ]
  },
  {
   "cell_type": "code",
   "execution_count": null,
   "metadata": {
    "id": "w4ZP5EwSgjSW"
   },
   "outputs": [],
   "source": [
    "np.max(T)# please try np.maximum and by following the upper example"
   ]
  },
  {
   "cell_type": "markdown",
   "metadata": {
    "id": "ffOVdl9UgjSW"
   },
   "source": [
    "## Computation Along Axes"
   ]
  },
  {
   "cell_type": "code",
   "execution_count": null,
   "metadata": {
    "id": "R5GklAx9gjSX"
   },
   "outputs": [],
   "source": [
    "A = np.random.random((2,2))\n",
    "A"
   ]
  },
  {
   "cell_type": "code",
   "execution_count": null,
   "metadata": {
    "id": "Fr7bcjqwgjSX",
    "scrolled": false
   },
   "outputs": [],
   "source": [
    "A.sum()# all "
   ]
  },
  {
   "cell_type": "code",
   "execution_count": null,
   "metadata": {
    "id": "xfjEmGPMgjSX"
   },
   "outputs": [],
   "source": [
    "np.sum(A)"
   ]
  },
  {
   "cell_type": "code",
   "execution_count": null,
   "metadata": {
    "id": "vb6o-oAfgjSY",
    "scrolled": true
   },
   "outputs": [],
   "source": [
    "A.sum(axis=0) # column wise # col1 # col2 #col3"
   ]
  },
  {
   "cell_type": "code",
   "execution_count": null,
   "metadata": {
    "id": "sjOIT9cYgjSZ"
   },
   "outputs": [],
   "source": [
    "np.sum(A, axis = 0)"
   ]
  },
  {
   "cell_type": "code",
   "execution_count": null,
   "metadata": {
    "id": "FsZ1_KIBgjSZ"
   },
   "outputs": [],
   "source": [
    "A.sum(axis=1) # row 1 "
   ]
  },
  {
   "cell_type": "code",
   "execution_count": null,
   "metadata": {
    "id": "f3A_VOwQgjSa"
   },
   "outputs": [],
   "source": [
    "np.sum(A, axis = 1)"
   ]
  },
  {
   "cell_type": "code",
   "execution_count": null,
   "metadata": {
    "id": "Sn8Dpw0SgjSa"
   },
   "outputs": [],
   "source": [
    "A.max(axis=0), A.argmax(axis=0)# column# the argmax returns the index where max occurs "
   ]
  },
  {
   "cell_type": "code",
   "execution_count": null,
   "metadata": {
    "id": "_hR3F1MXgjSb"
   },
   "outputs": [],
   "source": [
    "np.max(A, axis = 0), np.argmax(A, axis = 0)"
   ]
  },
  {
   "cell_type": "markdown",
   "metadata": {
    "id": "DAF_jmjQgjSb"
   },
   "source": [
    "## Combining Arrays: Stacking & Concatenation"
   ]
  },
  {
   "cell_type": "code",
   "execution_count": null,
   "metadata": {
    "id": "jAzYfeT2gjSc"
   },
   "outputs": [],
   "source": [
    "a = np.full(3, 2)\n",
    "b = np.full(3, 4)\n",
    "c = np.full(3, 6)\n",
    "print(a, b, c)"
   ]
  },
  {
   "cell_type": "markdown",
   "metadata": {
    "id": "loVlggYagjSc"
   },
   "source": [
    "Stacking creates a new axis. It joins the supplied arrays, which must have the same shape, along that axis.\n",
    "Indexing a single element from that axis returns the appropriate input array."
   ]
  },
  {
   "cell_type": "code",
   "execution_count": null,
   "metadata": {
    "id": "laxyeFgugjSc"
   },
   "outputs": [],
   "source": [
    "B = np.stack([a, b, c], axis=1)\n",
    "B, B.shape"
   ]
  },
  {
   "cell_type": "code",
   "execution_count": null,
   "metadata": {
    "id": "8o2HM0OjgjSd"
   },
   "outputs": [],
   "source": [
    "B = np.hstack((a, b, c))\n",
    "B, B.shape"
   ]
  },
  {
   "cell_type": "code",
   "execution_count": null,
   "metadata": {
    "id": "3EDWsl2RgjSd"
   },
   "outputs": [],
   "source": [
    "B = np.vstack((a, b, c))\n",
    "B, B.shape"
   ]
  },
  {
   "cell_type": "code",
   "execution_count": null,
   "metadata": {
    "id": "jrafp6NCgjSe"
   },
   "outputs": [],
   "source": [
    "B[:,1]"
   ]
  },
  {
   "cell_type": "markdown",
   "metadata": {
    "id": "7OqQyi09gjSf"
   },
   "source": [
    "Concatenating arrays joins them along an *existing* aixs."
   ]
  },
  {
   "cell_type": "code",
   "execution_count": null,
   "metadata": {
    "id": "HmePWZ9igjSf"
   },
   "outputs": [],
   "source": [
    "C = np.concatenate([B+10, B+50], axis=1 )\n",
    "C"
   ]
  },
  {
   "cell_type": "markdown",
   "metadata": {
    "id": "qLPhppfLgjSg"
   },
   "source": [
    "## Transposing and Reshaping"
   ]
  },
  {
   "cell_type": "code",
   "execution_count": null,
   "metadata": {
    "id": "hmed_yqGgjSg"
   },
   "outputs": [],
   "source": [
    "C, C.shape"
   ]
  },
  {
   "cell_type": "code",
   "execution_count": null,
   "metadata": {
    "id": "4tRjZ3y6gjSg"
   },
   "outputs": [],
   "source": [
    "CT = C.T\n",
    "CT, CT.shape"
   ]
  },
  {
   "cell_type": "code",
   "execution_count": null,
   "metadata": {
    "id": "B-XwXShNgjSh"
   },
   "outputs": [],
   "source": [
    "CR = C.reshape(9, 2)\n",
    "CR, CR.shape # it goes row wise "
   ]
  },
  {
   "cell_type": "markdown",
   "metadata": {
    "id": "doLOxQhlgjSh"
   },
   "source": [
    "## Saving and Loading"
   ]
  },
  {
   "cell_type": "markdown",
   "metadata": {
    "id": "6qwbDzSLgjSi"
   },
   "source": [
    "### Saving and loading a single NumPy array"
   ]
  },
  {
   "cell_type": "code",
   "execution_count": null,
   "metadata": {
    "id": "0AVbMISZgjSj",
    "scrolled": true
   },
   "outputs": [],
   "source": [
    "# Save single array\n",
    "x = np.random.random((5,))\n",
    "print(x)\n",
    "\n",
    "np.save('tmp.npy', x)"
   ]
  },
  {
   "cell_type": "code",
   "execution_count": null,
   "metadata": {
    "id": "cvrthgEPgjSj"
   },
   "outputs": [],
   "source": [
    "# Load the array\n",
    "y = np.load('tmp.npy')\n",
    "\n",
    "print(y)"
   ]
  },
  {
   "cell_type": "markdown",
   "metadata": {
    "id": "jyl1dRtngjSk"
   },
   "source": [
    "## Functions"
   ]
  },
  {
   "cell_type": "markdown",
   "metadata": {
    "id": "k86dDLfKgjSk"
   },
   "source": [
    "Need to add parenthesis after the function name:\n",
    "\n",
    "         def myfunction():"
   ]
  },
  {
   "cell_type": "markdown",
   "metadata": {
    "id": "aStB5URUgjSl"
   },
   "source": [
    "#### return: \n",
    "\n",
    "- Exits the function \n",
    "\n",
    "- Outputs whatever value is places after the return keyword"
   ]
  },
  {
   "cell_type": "code",
   "execution_count": 14,
   "metadata": {
    "colab": {
     "base_uri": "https://localhost:8080/",
     "height": 35
    },
    "id": "5RV21ynlgjSl",
    "outputId": "ef76baab-4663-4a9b-aa9f-d6223c7af49e"
   },
   "outputs": [
    {
     "data": {
      "text/plain": [
       "'Heads'"
      ]
     },
     "execution_count": 14,
     "metadata": {},
     "output_type": "execute_result"
    }
   ],
   "source": [
    "from random import random\n",
    "def flip_coin():\n",
    "    # generates random number 0-1\n",
    "    r = random()\n",
    "    if r > 0.5:\n",
    "        result = \"Heads\"\n",
    "    else: \n",
    "        result = \"Tails\"\n",
    "    \n",
    "    return result\n",
    "\n",
    "flip_coin()"
   ]
  },
  {
   "cell_type": "markdown",
   "metadata": {
    "id": "vcUqBnB5gjSm"
   },
   "source": [
    "#### Accepting input parameters"
   ]
  },
  {
   "cell_type": "code",
   "execution_count": null,
   "metadata": {
    "colab": {
     "base_uri": "https://localhost:8080/"
    },
    "id": "h7QHMQDogjSm",
    "outputId": "619e563e-454d-48c8-f218-54b276489b1c"
   },
   "outputs": [
    {
     "data": {
      "text/plain": [
       "20"
      ]
     },
     "execution_count": 7,
     "metadata": {
      "tags": []
     },
     "output_type": "execute_result"
    }
   ],
   "source": [
    "def double(d):\n",
    "\n",
    "    return 2*d\n",
    "\n",
    "double(10)"
   ]
  },
  {
   "cell_type": "markdown",
   "metadata": {
    "id": "_DVB7exegjSn"
   },
   "source": [
    "**bold text**### Default Parameters\n",
    "- Allows you to be more defensive\n",
    "- Avoids errors with incorrect parameters"
   ]
  },
  {
   "cell_type": "code",
   "execution_count": null,
   "metadata": {
    "colab": {
     "base_uri": "https://localhost:8080/"
    },
    "id": "OVT2lNZhgjSn",
    "outputId": "59c9617b-c8c9-49f3-b4b4-8ce52fe2cf0f"
   },
   "outputs": [
    {
     "data": {
      "text/plain": [
       "30"
      ]
     },
     "execution_count": 8,
     "metadata": {
      "tags": []
     },
     "output_type": "execute_result"
    }
   ],
   "source": [
    "def add(a=10, b=20):\n",
    "    return a+b\n",
    "add()"
   ]
  },
  {
   "cell_type": "markdown",
   "metadata": {
    "id": "Z__9zJIIgjSo"
   },
   "source": [
    "### Keyworded Argument"
   ]
  },
  {
   "cell_type": "markdown",
   "metadata": {
    "id": "maroTD-bgjSo"
   },
   "source": [
    "*args: A special operator we can pass to functions. Gathers remaining arguments as a tuple.\n",
    "\n",
    "This is just a parameter. You can call it whatever you want after the \"*\"!"
   ]
  },
  {
   "cell_type": "markdown",
   "metadata": {
    "id": "0CeyxT2SgjSp"
   },
   "source": [
    "Instead of doing:\n",
    "\n",
    "     def sum_all_nums(num1, num2, num3, num4):\n",
    "         return num1+num2+num3+num4"
   ]
  },
  {
   "cell_type": "code",
   "execution_count": null,
   "metadata": {
    "colab": {
     "base_uri": "https://localhost:8080/"
    },
    "id": "kuWFXgS6gjSp",
    "outputId": "2773de9f-c02f-497e-e4de-48a4958c07ad"
   },
   "outputs": [
    {
     "name": "stdout",
     "output_type": "stream",
     "text": [
      "32\n",
      "10\n"
     ]
    }
   ],
   "source": [
    "def sum_all_nums(*args):\n",
    "    total = 0\n",
    "    for num in args:\n",
    "        total += num\n",
    "    return total\n",
    "\n",
    "print(sum_all_nums(4,6,9,5,8))\n",
    "print(sum_all_nums(4,6))"
   ]
  },
  {
   "cell_type": "markdown",
   "metadata": {
    "id": "DWlbEaa9gjSq"
   },
   "source": [
    "### Lambdas: like a function that has no name (anonymous function)"
   ]
  },
  {
   "cell_type": "code",
   "execution_count": null,
   "metadata": {
    "colab": {
     "base_uri": "https://localhost:8080/"
    },
    "id": "5bMjy7B6gjSq",
    "outputId": "6953c2ef-39df-4a49-80f2-71de724f32eb"
   },
   "outputs": [
    {
     "name": "stdout",
     "output_type": "stream",
     "text": [
      "49\n"
     ]
    }
   ],
   "source": [
    "def square(num): return num*num\n",
    "square2 = lambda num: num*num # no return\n",
    "print(square2(7))"
   ]
  }
 ],
 "metadata": {
  "colab": {
   "name": "Recitation_1.ipynb",
   "provenance": []
  },
  "kernelspec": {
   "display_name": "Python 3",
   "language": "python",
   "name": "python3"
  },
  "language_info": {
   "codemirror_mode": {
    "name": "ipython",
    "version": 3
   },
   "file_extension": ".py",
   "mimetype": "text/x-python",
   "name": "python",
   "nbconvert_exporter": "python",
   "pygments_lexer": "ipython3",
   "version": "3.8.5"
  }
 },
 "nbformat": 4,
 "nbformat_minor": 1
}
