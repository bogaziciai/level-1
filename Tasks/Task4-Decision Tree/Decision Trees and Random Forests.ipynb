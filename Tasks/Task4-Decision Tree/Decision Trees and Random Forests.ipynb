{
 "cells": [
  {
   "cell_type": "markdown",
   "id": "071f2f12",
   "metadata": {},
   "source": [
    "# Decision Trees and Random Forests\n",
    "\n",
    "<br><br>\n",
    "A decision tree is a supervised machine learning model used to predict a target by learning decision rules from features. It's highly useful since;\n",
    "\n",
    "• Applicable to both regression and classification problems. <br>\n",
    "• Computationally simple and quick to fit, even for large problems. <br>\n",
    "• No formal distributional assumptions (non-parametric). <br>\n",
    "• Can handle highly non-linear interactions and classification boundaries. <br>\n",
    "• Handle missing values through surrogate variables. <br>\n",
    "• Very easy to interpret if the tree is small. <br>\n",
    "\n",
    "A decision tree is constructed by dividing data(root node) into more homogenous subsets(nodes) based on their features, iteratively. We want to create final subsets (leaf nodes) that groups similar(same class or close values) samples together. So, after traning, algorithm matches new sample with suitable leaf node and predicts its outcome according to value of that leaf.(either the class with most member in the node or mean of the samples in the node)  \n"
   ]
  },
  {
   "cell_type": "markdown",
   "id": "1aa77364",
   "metadata": {},
   "source": [
    "## Decision Tree Classification\n",
    "\n",
    "There may be a lot of features for large problems and we need to decide which feature we use in order to create new child nodes in each branch. For classification problems one way to achive that via maximazing Information Gain(IG) function: \n",
    "$$IG(D_p,f)=I(N_p)-\\left(\\frac{N_{\\text{right}}}{N_p}I(D_{\\text{right}})+\\frac{N_{\\text{left}}}{N_p}I(D_{\\text{left}})\\right) $$\n",
    "Here, $f$ is the feature to perform the split, $D_p$, $D_{\\text{left}}$, and $D_{\\text{right}}$ are the datasets of the parent and child nodes, $I$ is the impurity measure, $N_p$ is the total number of samples at the parent node, and $N_{\\text{left}}$ and $N_{\\text{right}}$ are the number of samples in the child nodes. And $I$ is called impurity measure, a function measure homogeneity. We can use entropy function shown below for $I$:  \n",
    "\n",
    "$$E(t)=-\\sum_{i=1}^c p(i|t)\\log_2 p(i|t)$$ <br >where $p(i|t)$ is the proportion of the samples that belong to class c for a particular node t. \n",
    "\n",
    "Don't worry, scikit-learn does all these calculations for us as we'll see."
   ]
  },
  {
   "cell_type": "markdown",
   "id": "6759cecb",
   "metadata": {},
   "source": [
    "## <font color=red>**Exercise**</font> \n",
    "Research Gini Impurity."
   ]
  },
  {
   "cell_type": "code",
   "execution_count": 1,
   "id": "ce16f5c3",
   "metadata": {},
   "outputs": [],
   "source": [
    "import warnings\n",
    "warnings.filterwarnings('ignore')\n",
    "\n",
    "import numpy as np\n",
    "import matplotlib.pyplot as plt\n",
    "from sklearn import datasets,linear_model, preprocessing, model_selection\n",
    "import pandas as pd"
   ]
  },
  {
   "cell_type": "markdown",
   "id": "0176744a",
   "metadata": {},
   "source": [
    "You can import data from : https://archive.ics.uci.edu/ml/machine-learning-databases/iris/"
   ]
  },
  {
   "cell_type": "code",
   "execution_count": 2,
   "id": "d9344f43",
   "metadata": {},
   "outputs": [],
   "source": [
    "IrisData = pd.read_csv(r'iris.data',names=['Sepal Length', 'Sepal Width', 'Petal Length', 'Petal Width', 'Class'])\n",
    "\n",
    "x = IrisData.iloc[:,:-1].values\n",
    "y = IrisData.iloc[:, -1].values\n",
    "x_train, x_test, y_train, y_test = model_selection.train_test_split(x, y, test_size=0.2)\n",
    "\n",
    "scaler = preprocessing.StandardScaler()\n",
    "x_train = scaler.fit_transform(x_train)\n",
    "x_test = scaler.transform(x_test)"
   ]
  },
  {
   "cell_type": "code",
   "execution_count": 3,
   "id": "abdd8a04",
   "metadata": {},
   "outputs": [
    {
     "name": "stdout",
     "output_type": "stream",
     "text": [
      "Test Accuracy:  0.9333333333333333\n"
     ]
    }
   ],
   "source": [
    "#We import define and fit Decision Tree Classifier. Then test its accuracy.\n",
    "from sklearn.tree import DecisionTreeClassifier    \n",
    "\n",
    "classifier = DecisionTreeClassifier(criterion='entropy',max_depth=4, random_state=1)\n",
    "classifier.fit(x_train, y_train)\n",
    "\n",
    "print(\"Test Accuracy: \", classifier.score(x_test,y_test))"
   ]
  },
  {
   "cell_type": "code",
   "execution_count": 4,
   "id": "2d6a824b",
   "metadata": {},
   "outputs": [
    {
     "data": {
      "image/svg+xml": [
       "<svg xmlns=\"http://www.w3.org/2000/svg\" xmlns:xlink=\"http://www.w3.org/1999/xlink\" width=\"583pt\" height=\"552pt\" viewBox=\"0.00 0.00 583.00 552.00\">\n",
       "<g id=\"graph0\" class=\"graph\" transform=\"scale(1 1) rotate(0) translate(4 548)\">\n",
       "<title>Tree</title>\n",
       "<polygon fill=\"white\" stroke=\"none\" points=\"-4,4 -4,-548 579,-548 579,4 -4,4\"/>\n",
       "<!-- 0 -->\n",
       "<g id=\"node1\" class=\"node\"><title>0</title>\n",
       "<path fill=\"#f9f5fe\" stroke=\"black\" d=\"M204,-544C204,-544 73,-544 73,-544 67,-544 61,-538 61,-532 61,-532 61,-473 61,-473 61,-467 67,-461 73,-461 73,-461 204,-461 204,-461 210,-461 216,-467 216,-473 216,-473 216,-532 216,-532 216,-538 210,-544 204,-544\"/>\n",
       "<text text-anchor=\"middle\" x=\"138.5\" y=\"-528.8\" font-family=\"Helvetica,sans-Serif\" font-size=\"14.00\">Petal Width &lt;= -0.543</text>\n",
       "<text text-anchor=\"middle\" x=\"138.5\" y=\"-513.8\" font-family=\"Helvetica,sans-Serif\" font-size=\"14.00\">entropy = 1.583</text>\n",
       "<text text-anchor=\"middle\" x=\"138.5\" y=\"-498.8\" font-family=\"Helvetica,sans-Serif\" font-size=\"14.00\">samples = 120</text>\n",
       "<text text-anchor=\"middle\" x=\"138.5\" y=\"-483.8\" font-family=\"Helvetica,sans-Serif\" font-size=\"14.00\">value = [39, 38, 43]</text>\n",
       "<text text-anchor=\"middle\" x=\"138.5\" y=\"-468.8\" font-family=\"Helvetica,sans-Serif\" font-size=\"14.00\">class = Virginica</text>\n",
       "</g>\n",
       "<!-- 1 -->\n",
       "<g id=\"node2\" class=\"node\"><title>1</title>\n",
       "<path fill=\"#e58139\" stroke=\"black\" d=\"M109,-417.5C109,-417.5 12,-417.5 12,-417.5 6,-417.5 0,-411.5 0,-405.5 0,-405.5 0,-361.5 0,-361.5 0,-355.5 6,-349.5 12,-349.5 12,-349.5 109,-349.5 109,-349.5 115,-349.5 121,-355.5 121,-361.5 121,-361.5 121,-405.5 121,-405.5 121,-411.5 115,-417.5 109,-417.5\"/>\n",
       "<text text-anchor=\"middle\" x=\"60.5\" y=\"-402.3\" font-family=\"Helvetica,sans-Serif\" font-size=\"14.00\">entropy = 0.0</text>\n",
       "<text text-anchor=\"middle\" x=\"60.5\" y=\"-387.3\" font-family=\"Helvetica,sans-Serif\" font-size=\"14.00\">samples = 39</text>\n",
       "<text text-anchor=\"middle\" x=\"60.5\" y=\"-372.3\" font-family=\"Helvetica,sans-Serif\" font-size=\"14.00\">value = [39, 0, 0]</text>\n",
       "<text text-anchor=\"middle\" x=\"60.5\" y=\"-357.3\" font-family=\"Helvetica,sans-Serif\" font-size=\"14.00\">class = Setosa</text>\n",
       "</g>\n",
       "<!-- 0&#45;&gt;1 -->\n",
       "<g id=\"edge1\" class=\"edge\"><title>0-&gt;1</title>\n",
       "<path fill=\"none\" stroke=\"black\" d=\"M111.438,-460.907C103.935,-449.652 95.7789,-437.418 88.2375,-426.106\"/>\n",
       "<polygon fill=\"black\" stroke=\"black\" points=\"91.0705,-424.046 82.6113,-417.667 85.2462,-427.929 91.0705,-424.046\"/>\n",
       "<text text-anchor=\"middle\" x=\"77.7084\" y=\"-438.481\" font-family=\"Helvetica,sans-Serif\" font-size=\"14.00\">True</text>\n",
       "</g>\n",
       "<!-- 2 -->\n",
       "<g id=\"node3\" class=\"node\"><title>2</title>\n",
       "<path fill=\"#f0e8fc\" stroke=\"black\" d=\"M284,-425C284,-425 151,-425 151,-425 145,-425 139,-419 139,-413 139,-413 139,-354 139,-354 139,-348 145,-342 151,-342 151,-342 284,-342 284,-342 290,-342 296,-348 296,-354 296,-354 296,-413 296,-413 296,-419 290,-425 284,-425\"/>\n",
       "<text text-anchor=\"middle\" x=\"217.5\" y=\"-409.8\" font-family=\"Helvetica,sans-Serif\" font-size=\"14.00\">Petal Length &lt;= 0.537</text>\n",
       "<text text-anchor=\"middle\" x=\"217.5\" y=\"-394.8\" font-family=\"Helvetica,sans-Serif\" font-size=\"14.00\">entropy = 0.997</text>\n",
       "<text text-anchor=\"middle\" x=\"217.5\" y=\"-379.8\" font-family=\"Helvetica,sans-Serif\" font-size=\"14.00\">samples = 81</text>\n",
       "<text text-anchor=\"middle\" x=\"217.5\" y=\"-364.8\" font-family=\"Helvetica,sans-Serif\" font-size=\"14.00\">value = [0, 38, 43]</text>\n",
       "<text text-anchor=\"middle\" x=\"217.5\" y=\"-349.8\" font-family=\"Helvetica,sans-Serif\" font-size=\"14.00\">class = Virginica</text>\n",
       "</g>\n",
       "<!-- 0&#45;&gt;2 -->\n",
       "<g id=\"edge2\" class=\"edge\"><title>0-&gt;2</title>\n",
       "<path fill=\"none\" stroke=\"black\" d=\"M165.909,-460.907C171.914,-452.014 178.331,-442.509 184.529,-433.331\"/>\n",
       "<polygon fill=\"black\" stroke=\"black\" points=\"187.444,-435.267 190.14,-425.021 181.643,-431.35 187.444,-435.267\"/>\n",
       "<text text-anchor=\"middle\" x=\"194.898\" y=\"-445.864\" font-family=\"Helvetica,sans-Serif\" font-size=\"14.00\">False</text>\n",
       "</g>\n",
       "<!-- 3 -->\n",
       "<g id=\"node4\" class=\"node\"><title>3</title>\n",
       "<path fill=\"#39e581\" stroke=\"black\" d=\"M191.5,-298.5C191.5,-298.5 85.5,-298.5 85.5,-298.5 79.5,-298.5 73.5,-292.5 73.5,-286.5 73.5,-286.5 73.5,-242.5 73.5,-242.5 73.5,-236.5 79.5,-230.5 85.5,-230.5 85.5,-230.5 191.5,-230.5 191.5,-230.5 197.5,-230.5 203.5,-236.5 203.5,-242.5 203.5,-242.5 203.5,-286.5 203.5,-286.5 203.5,-292.5 197.5,-298.5 191.5,-298.5\"/>\n",
       "<text text-anchor=\"middle\" x=\"138.5\" y=\"-283.3\" font-family=\"Helvetica,sans-Serif\" font-size=\"14.00\">entropy = 0.0</text>\n",
       "<text text-anchor=\"middle\" x=\"138.5\" y=\"-268.3\" font-family=\"Helvetica,sans-Serif\" font-size=\"14.00\">samples = 34</text>\n",
       "<text text-anchor=\"middle\" x=\"138.5\" y=\"-253.3\" font-family=\"Helvetica,sans-Serif\" font-size=\"14.00\">value = [0, 34, 0]</text>\n",
       "<text text-anchor=\"middle\" x=\"138.5\" y=\"-238.3\" font-family=\"Helvetica,sans-Serif\" font-size=\"14.00\">class = Versicolor</text>\n",
       "</g>\n",
       "<!-- 2&#45;&gt;3 -->\n",
       "<g id=\"edge3\" class=\"edge\"><title>2-&gt;3</title>\n",
       "<path fill=\"none\" stroke=\"black\" d=\"M190.091,-341.907C182.492,-330.652 174.231,-318.418 166.593,-307.106\"/>\n",
       "<polygon fill=\"black\" stroke=\"black\" points=\"169.391,-304.996 160.895,-298.667 163.59,-308.913 169.391,-304.996\"/>\n",
       "</g>\n",
       "<!-- 4 -->\n",
       "<g id=\"node5\" class=\"node\"><title>4</title>\n",
       "<path fill=\"#8d4be7\" stroke=\"black\" d=\"M359.5,-306C359.5,-306 233.5,-306 233.5,-306 227.5,-306 221.5,-300 221.5,-294 221.5,-294 221.5,-235 221.5,-235 221.5,-229 227.5,-223 233.5,-223 233.5,-223 359.5,-223 359.5,-223 365.5,-223 371.5,-229 371.5,-235 371.5,-235 371.5,-294 371.5,-294 371.5,-300 365.5,-306 359.5,-306\"/>\n",
       "<text text-anchor=\"middle\" x=\"296.5\" y=\"-290.8\" font-family=\"Helvetica,sans-Serif\" font-size=\"14.00\">Petal Width &lt;= 0.701</text>\n",
       "<text text-anchor=\"middle\" x=\"296.5\" y=\"-275.8\" font-family=\"Helvetica,sans-Serif\" font-size=\"14.00\">entropy = 0.42</text>\n",
       "<text text-anchor=\"middle\" x=\"296.5\" y=\"-260.8\" font-family=\"Helvetica,sans-Serif\" font-size=\"14.00\">samples = 47</text>\n",
       "<text text-anchor=\"middle\" x=\"296.5\" y=\"-245.8\" font-family=\"Helvetica,sans-Serif\" font-size=\"14.00\">value = [0, 4, 43]</text>\n",
       "<text text-anchor=\"middle\" x=\"296.5\" y=\"-230.8\" font-family=\"Helvetica,sans-Serif\" font-size=\"14.00\">class = Virginica</text>\n",
       "</g>\n",
       "<!-- 2&#45;&gt;4 -->\n",
       "<g id=\"edge4\" class=\"edge\"><title>2-&gt;4</title>\n",
       "<path fill=\"none\" stroke=\"black\" d=\"M244.909,-341.907C250.914,-333.014 257.331,-323.509 263.529,-314.331\"/>\n",
       "<polygon fill=\"black\" stroke=\"black\" points=\"266.444,-316.267 269.14,-306.021 260.643,-312.35 266.444,-316.267\"/>\n",
       "</g>\n",
       "<!-- 5 -->\n",
       "<g id=\"node6\" class=\"node\"><title>5</title>\n",
       "<path fill=\"#e0cef8\" stroke=\"black\" d=\"M276,-187C276,-187 141,-187 141,-187 135,-187 129,-181 129,-175 129,-175 129,-116 129,-116 129,-110 135,-104 141,-104 141,-104 276,-104 276,-104 282,-104 288,-110 288,-116 288,-116 288,-175 288,-175 288,-181 282,-187 276,-187\"/>\n",
       "<text text-anchor=\"middle\" x=\"208.5\" y=\"-171.8\" font-family=\"Helvetica,sans-Serif\" font-size=\"14.00\">Sepal Width &lt;= -0.917</text>\n",
       "<text text-anchor=\"middle\" x=\"208.5\" y=\"-156.8\" font-family=\"Helvetica,sans-Serif\" font-size=\"14.00\">entropy = 0.985</text>\n",
       "<text text-anchor=\"middle\" x=\"208.5\" y=\"-141.8\" font-family=\"Helvetica,sans-Serif\" font-size=\"14.00\">samples = 7</text>\n",
       "<text text-anchor=\"middle\" x=\"208.5\" y=\"-126.8\" font-family=\"Helvetica,sans-Serif\" font-size=\"14.00\">value = [0, 3, 4]</text>\n",
       "<text text-anchor=\"middle\" x=\"208.5\" y=\"-111.8\" font-family=\"Helvetica,sans-Serif\" font-size=\"14.00\">class = Virginica</text>\n",
       "</g>\n",
       "<!-- 4&#45;&gt;5 -->\n",
       "<g id=\"edge5\" class=\"edge\"><title>4-&gt;5</title>\n",
       "<path fill=\"none\" stroke=\"black\" d=\"M265.969,-222.907C259.211,-213.923 251.985,-204.315 245.016,-195.05\"/>\n",
       "<polygon fill=\"black\" stroke=\"black\" points=\"247.785,-192.909 238.977,-187.021 242.191,-197.116 247.785,-192.909\"/>\n",
       "</g>\n",
       "<!-- 8 -->\n",
       "<g id=\"node9\" class=\"node\"><title>8</title>\n",
       "<path fill=\"#843ee6\" stroke=\"black\" d=\"M451,-187C451,-187 318,-187 318,-187 312,-187 306,-181 306,-175 306,-175 306,-116 306,-116 306,-110 312,-104 318,-104 318,-104 451,-104 451,-104 457,-104 463,-110 463,-116 463,-116 463,-175 463,-175 463,-181 457,-187 451,-187\"/>\n",
       "<text text-anchor=\"middle\" x=\"384.5\" y=\"-171.8\" font-family=\"Helvetica,sans-Serif\" font-size=\"14.00\">Petal Length &lt;= 0.594</text>\n",
       "<text text-anchor=\"middle\" x=\"384.5\" y=\"-156.8\" font-family=\"Helvetica,sans-Serif\" font-size=\"14.00\">entropy = 0.169</text>\n",
       "<text text-anchor=\"middle\" x=\"384.5\" y=\"-141.8\" font-family=\"Helvetica,sans-Serif\" font-size=\"14.00\">samples = 40</text>\n",
       "<text text-anchor=\"middle\" x=\"384.5\" y=\"-126.8\" font-family=\"Helvetica,sans-Serif\" font-size=\"14.00\">value = [0, 1, 39]</text>\n",
       "<text text-anchor=\"middle\" x=\"384.5\" y=\"-111.8\" font-family=\"Helvetica,sans-Serif\" font-size=\"14.00\">class = Virginica</text>\n",
       "</g>\n",
       "<!-- 4&#45;&gt;8 -->\n",
       "<g id=\"edge8\" class=\"edge\"><title>4-&gt;8</title>\n",
       "<path fill=\"none\" stroke=\"black\" d=\"M327.031,-222.907C333.789,-213.923 341.015,-204.315 347.984,-195.05\"/>\n",
       "<polygon fill=\"black\" stroke=\"black\" points=\"350.809,-197.116 354.023,-187.021 345.215,-192.909 350.809,-197.116\"/>\n",
       "</g>\n",
       "<!-- 6 -->\n",
       "<g id=\"node7\" class=\"node\"><title>6</title>\n",
       "<path fill=\"#8139e5\" stroke=\"black\" d=\"M122,-68C122,-68 27,-68 27,-68 21,-68 15,-62 15,-56 15,-56 15,-12 15,-12 15,-6 21,-0 27,-0 27,-0 122,-0 122,-0 128,-0 134,-6 134,-12 134,-12 134,-56 134,-56 134,-62 128,-68 122,-68\"/>\n",
       "<text text-anchor=\"middle\" x=\"74.5\" y=\"-52.8\" font-family=\"Helvetica,sans-Serif\" font-size=\"14.00\">entropy = 0.0</text>\n",
       "<text text-anchor=\"middle\" x=\"74.5\" y=\"-37.8\" font-family=\"Helvetica,sans-Serif\" font-size=\"14.00\">samples = 2</text>\n",
       "<text text-anchor=\"middle\" x=\"74.5\" y=\"-22.8\" font-family=\"Helvetica,sans-Serif\" font-size=\"14.00\">value = [0, 0, 2]</text>\n",
       "<text text-anchor=\"middle\" x=\"74.5\" y=\"-7.8\" font-family=\"Helvetica,sans-Serif\" font-size=\"14.00\">class = Virginica</text>\n",
       "</g>\n",
       "<!-- 5&#45;&gt;6 -->\n",
       "<g id=\"edge6\" class=\"edge\"><title>5-&gt;6</title>\n",
       "<path fill=\"none\" stroke=\"black\" d=\"M158.603,-103.726C146.995,-94.2406 134.653,-84.1551 123.102,-74.7159\"/>\n",
       "<polygon fill=\"black\" stroke=\"black\" points=\"125.208,-71.9171 115.25,-68.2996 120.779,-77.3375 125.208,-71.9171\"/>\n",
       "</g>\n",
       "<!-- 7 -->\n",
       "<g id=\"node8\" class=\"node\"><title>7</title>\n",
       "<path fill=\"#bdf6d5\" stroke=\"black\" d=\"M270.5,-68C270.5,-68 164.5,-68 164.5,-68 158.5,-68 152.5,-62 152.5,-56 152.5,-56 152.5,-12 152.5,-12 152.5,-6 158.5,-0 164.5,-0 164.5,-0 270.5,-0 270.5,-0 276.5,-0 282.5,-6 282.5,-12 282.5,-12 282.5,-56 282.5,-56 282.5,-62 276.5,-68 270.5,-68\"/>\n",
       "<text text-anchor=\"middle\" x=\"217.5\" y=\"-52.8\" font-family=\"Helvetica,sans-Serif\" font-size=\"14.00\">entropy = 0.971</text>\n",
       "<text text-anchor=\"middle\" x=\"217.5\" y=\"-37.8\" font-family=\"Helvetica,sans-Serif\" font-size=\"14.00\">samples = 5</text>\n",
       "<text text-anchor=\"middle\" x=\"217.5\" y=\"-22.8\" font-family=\"Helvetica,sans-Serif\" font-size=\"14.00\">value = [0, 3, 2]</text>\n",
       "<text text-anchor=\"middle\" x=\"217.5\" y=\"-7.8\" font-family=\"Helvetica,sans-Serif\" font-size=\"14.00\">class = Versicolor</text>\n",
       "</g>\n",
       "<!-- 5&#45;&gt;7 -->\n",
       "<g id=\"edge7\" class=\"edge\"><title>5-&gt;7</title>\n",
       "<path fill=\"none\" stroke=\"black\" d=\"M211.851,-103.726C212.533,-95.4263 213.253,-86.6671 213.942,-78.2834\"/>\n",
       "<polygon fill=\"black\" stroke=\"black\" points=\"217.432,-78.5527 214.763,-68.2996 210.456,-77.9793 217.432,-78.5527\"/>\n",
       "</g>\n",
       "<!-- 9 -->\n",
       "<g id=\"node10\" class=\"node\"><title>9</title>\n",
       "<path fill=\"#c09cf2\" stroke=\"black\" d=\"M424,-68C424,-68 329,-68 329,-68 323,-68 317,-62 317,-56 317,-56 317,-12 317,-12 317,-6 323,-0 329,-0 329,-0 424,-0 424,-0 430,-0 436,-6 436,-12 436,-12 436,-56 436,-56 436,-62 430,-68 424,-68\"/>\n",
       "<text text-anchor=\"middle\" x=\"376.5\" y=\"-52.8\" font-family=\"Helvetica,sans-Serif\" font-size=\"14.00\">entropy = 0.918</text>\n",
       "<text text-anchor=\"middle\" x=\"376.5\" y=\"-37.8\" font-family=\"Helvetica,sans-Serif\" font-size=\"14.00\">samples = 3</text>\n",
       "<text text-anchor=\"middle\" x=\"376.5\" y=\"-22.8\" font-family=\"Helvetica,sans-Serif\" font-size=\"14.00\">value = [0, 1, 2]</text>\n",
       "<text text-anchor=\"middle\" x=\"376.5\" y=\"-7.8\" font-family=\"Helvetica,sans-Serif\" font-size=\"14.00\">class = Virginica</text>\n",
       "</g>\n",
       "<!-- 8&#45;&gt;9 -->\n",
       "<g id=\"edge9\" class=\"edge\"><title>8-&gt;9</title>\n",
       "<path fill=\"none\" stroke=\"black\" d=\"M381.521,-103.726C380.915,-95.4263 380.275,-86.6671 379.662,-78.2834\"/>\n",
       "<polygon fill=\"black\" stroke=\"black\" points=\"383.152,-78.018 378.933,-68.2996 376.171,-78.5281 383.152,-78.018\"/>\n",
       "</g>\n",
       "<!-- 10 -->\n",
       "<g id=\"node11\" class=\"node\"><title>10</title>\n",
       "<path fill=\"#8139e5\" stroke=\"black\" d=\"M563,-68C563,-68 466,-68 466,-68 460,-68 454,-62 454,-56 454,-56 454,-12 454,-12 454,-6 460,-0 466,-0 466,-0 563,-0 563,-0 569,-0 575,-6 575,-12 575,-12 575,-56 575,-56 575,-62 569,-68 563,-68\"/>\n",
       "<text text-anchor=\"middle\" x=\"514.5\" y=\"-52.8\" font-family=\"Helvetica,sans-Serif\" font-size=\"14.00\">entropy = 0.0</text>\n",
       "<text text-anchor=\"middle\" x=\"514.5\" y=\"-37.8\" font-family=\"Helvetica,sans-Serif\" font-size=\"14.00\">samples = 37</text>\n",
       "<text text-anchor=\"middle\" x=\"514.5\" y=\"-22.8\" font-family=\"Helvetica,sans-Serif\" font-size=\"14.00\">value = [0, 0, 37]</text>\n",
       "<text text-anchor=\"middle\" x=\"514.5\" y=\"-7.8\" font-family=\"Helvetica,sans-Serif\" font-size=\"14.00\">class = Virginica</text>\n",
       "</g>\n",
       "<!-- 8&#45;&gt;10 -->\n",
       "<g id=\"edge10\" class=\"edge\"><title>8-&gt;10</title>\n",
       "<path fill=\"none\" stroke=\"black\" d=\"M432.907,-103.726C444.06,-94.3318 455.912,-84.349 467.025,-74.9883\"/>\n",
       "<polygon fill=\"black\" stroke=\"black\" points=\"469.573,-77.4188 474.966,-68.2996 465.063,-72.065 469.573,-77.4188\"/>\n",
       "</g>\n",
       "</g>\n",
       "</svg>"
      ],
      "text/plain": [
       "<IPython.core.display.SVG object>"
      ]
     },
     "execution_count": 4,
     "metadata": {},
     "output_type": "execute_result"
    }
   ],
   "source": [
    "#We draw a picture of our decision tree \n",
    "#You'll need graphviz and IPython packages. go to Anaconda Navigator->Environments, select all libraries and search for python-graphviz, load and restart Jupyter.\n",
    "\n",
    "\n",
    "from sklearn.tree import export_graphviz\n",
    "from graphviz import Source\n",
    "from IPython.display import SVG\n",
    "\n",
    "graph = export_graphviz(classifier, filled=True, rounded=True,\n",
    "    class_names=['Setosa', 'Versicolor','Virginica'],\n",
    "    feature_names=['Sepal Length', 'Sepal Width', 'Petal Length', 'Petal Width'],\n",
    "    out_file=None\n",
    ")\n",
    "\n",
    "graph = Source(graph)\n",
    "SVG(graph.pipe(format='svg'))"
   ]
  },
  {
   "cell_type": "markdown",
   "id": "0eb3f455",
   "metadata": {},
   "source": [
    "## Decision Tree Regression"
   ]
  },
  {
   "cell_type": "markdown",
   "id": "3250e08e",
   "metadata": {},
   "source": [
    "Decision Trees Regression follows same logic with classification. But this time we need a different impurity measure suitable for continous problems; weighted mean squared error (MSE):\n",
    "\n",
    "$$MSE(t)=\\frac{1}{N_t}\\sum_{i\\in D_t} (y^{(i)}-\\hat y_t) $$\n",
    "\n",
    "Here, $N_t$ is the number of training samples at node t, $D_t$ is the training subset at node t, $y^{(i)}$ is the true target value, and $\\hat y_t$ is the predicted target value (sample mean):\n",
    "\n",
    "$$\\hat y_t=\\frac{1}{N_t}\\sum_{i\\in D_t} y^{(i)} $$"
   ]
  },
  {
   "cell_type": "code",
   "execution_count": 5,
   "id": "703ebd30",
   "metadata": {},
   "outputs": [
    {
     "data": {
      "text/html": [
       "<div>\n",
       "<style scoped>\n",
       "    .dataframe tbody tr th:only-of-type {\n",
       "        vertical-align: middle;\n",
       "    }\n",
       "\n",
       "    .dataframe tbody tr th {\n",
       "        vertical-align: top;\n",
       "    }\n",
       "\n",
       "    .dataframe thead th {\n",
       "        text-align: right;\n",
       "    }\n",
       "</style>\n",
       "<table border=\"1\" class=\"dataframe\">\n",
       "  <thead>\n",
       "    <tr style=\"text-align: right;\">\n",
       "      <th></th>\n",
       "      <th>LSTAT</th>\n",
       "      <th>MEDV</th>\n",
       "    </tr>\n",
       "  </thead>\n",
       "  <tbody>\n",
       "    <tr>\n",
       "      <th>0</th>\n",
       "      <td>4.98</td>\n",
       "      <td>24.0</td>\n",
       "    </tr>\n",
       "    <tr>\n",
       "      <th>1</th>\n",
       "      <td>9.14</td>\n",
       "      <td>21.6</td>\n",
       "    </tr>\n",
       "    <tr>\n",
       "      <th>2</th>\n",
       "      <td>4.03</td>\n",
       "      <td>34.7</td>\n",
       "    </tr>\n",
       "    <tr>\n",
       "      <th>3</th>\n",
       "      <td>2.94</td>\n",
       "      <td>33.4</td>\n",
       "    </tr>\n",
       "    <tr>\n",
       "      <th>4</th>\n",
       "      <td>5.33</td>\n",
       "      <td>36.2</td>\n",
       "    </tr>\n",
       "  </tbody>\n",
       "</table>\n",
       "</div>"
      ],
      "text/plain": [
       "   LSTAT  MEDV\n",
       "0   4.98  24.0\n",
       "1   9.14  21.6\n",
       "2   4.03  34.7\n",
       "3   2.94  33.4\n",
       "4   5.33  36.2"
      ]
     },
     "execution_count": 5,
     "metadata": {},
     "output_type": "execute_result"
    }
   ],
   "source": [
    "#We use Boston dataset\n",
    "boston = datasets.load_boston()          \n",
    "df = pd.DataFrame(boston.data[:, 12])     \n",
    "df.columns = ['LSTAT']\n",
    "df['MEDV'] = boston.target                 \n",
    "df.head()"
   ]
  },
  {
   "cell_type": "code",
   "execution_count": 6,
   "id": "2a330235",
   "metadata": {},
   "outputs": [
    {
     "data": {
      "text/plain": [
       "DecisionTreeRegressor(max_depth=3)"
      ]
     },
     "execution_count": 6,
     "metadata": {},
     "output_type": "execute_result"
    }
   ],
   "source": [
    "\n",
    "from sklearn.tree import DecisionTreeRegressor    \n",
    "\n",
    "X = df[['LSTAT']].values                          \n",
    "y = df['MEDV'].values                             #We use only two of the features for visual demonstration later \n",
    "\n",
    "sort_idx = X.flatten().argsort()                  # Sort X and y by ascending values of X\n",
    "X = X[sort_idx]\n",
    "y = y[sort_idx]\n",
    "\n",
    "tree = DecisionTreeRegressor(criterion='mse',     # Initialize and fit regressor\n",
    "                             max_depth=3)         \n",
    "tree.fit(X, y)"
   ]
  },
  {
   "cell_type": "code",
   "execution_count": 25,
   "id": "aec2dfec",
   "metadata": {},
   "outputs": [
    {
     "data": {
      "image/png": "[encoded data removed]",
      "text/plain": [
       "<Figure size 1152x576 with 1 Axes>"
      ]
     },
     "metadata": {
      "needs_background": "light"
     },
     "output_type": "display_data"
    }
   ],
   "source": [
    "plt.figure(figsize=(16, 8))\n",
    "plt.scatter(X, y, c='steelblue',                  # Plot actual target against features\n",
    "            edgecolor='white', s=70)\n",
    "plt.plot(X, tree.predict(X),                      # Plot predicted target against features\n",
    "         color='black', lw=2)\n",
    "plt.xlabel('% lower status of the population [LSTAT]')\n",
    "plt.ylabel('Price in $1000s [MEDV]')\n",
    "plt.show()"
   ]
  },
  {
   "cell_type": "markdown",
   "id": "5b7ddb85",
   "metadata": {},
   "source": [
    "## Random Forest Classification\n",
    "\n",
    "Sometimes Decision Trees can be less accurate than other available methods and be instable i.e may change a lot when we add more data in training. We overcome these obstacles by generating many trees and choose the most popular result. (or avarage of results in case of regression.). Unfortunately resulting process is usually much less interpretable compare to a single tree."
   ]
  },
  {
   "cell_type": "code",
   "execution_count": 7,
   "id": "c1a2f6b2",
   "metadata": {},
   "outputs": [
    {
     "name": "stdout",
     "output_type": "stream",
     "text": [
      "Test Accuracy:  0.9333333333333333\n"
     ]
    }
   ],
   "source": [
    "from sklearn.ensemble import RandomForestClassifier #Import Random Forest Model\n",
    "\n",
    "rfc=RandomForestClassifier(n_estimators=100, random_state=1) #How many trees are used. Check other parameters\n",
    "\n",
    "rfc.fit(x_train,y_train)\n",
    "\n",
    "print(\"Test Accuracy: \", rfc.score(x_test,y_test))"
   ]
  },
  {
   "cell_type": "markdown",
   "id": "71af2884",
   "metadata": {},
   "source": [
    "Random forest classifier can also determine how important a feature for prediction. So, we can eliminate less important feauters from prediction process and reduce dimension.    "
   ]
  },
  {
   "cell_type": "code",
   "execution_count": 8,
   "id": "cc755244",
   "metadata": {},
   "outputs": [
    {
     "name": "stdout",
     "output_type": "stream",
     "text": [
      "Petal Length    0.460741\n",
      "Petal Width     0.386354\n",
      "Sepal Length    0.125738\n",
      "Sepal Width     0.027167\n",
      "dtype: float64\n"
     ]
    }
   ],
   "source": [
    "feature_imp = pd.Series(rfc.feature_importances_,index=['Sepal Length', 'Sepal Width', 'Petal Length', 'Petal Width']).sort_values(ascending=False)\n",
    "print(feature_imp)\n",
    "#Below we have feature Importance scores"
   ]
  },
  {
   "cell_type": "code",
   "execution_count": 9,
   "id": "3ae958c9",
   "metadata": {},
   "outputs": [],
   "source": [
    "# Remove feature 'Sepal Width'\n",
    "x=IrisData[['Sepal Length', 'Petal Length', 'Petal Width']]  \n",
    "y=IrisData['Class']                                       \n",
    "\n",
    "\n",
    "x = IrisData.iloc[:,:-1].values\n",
    "y = IrisData.iloc[:, -1].values\n",
    "x_train, x_test, y_train, y_test = model_selection.train_test_split(x, y, test_size=0.2)\n",
    "\n",
    "scaler = preprocessing.StandardScaler()\n",
    "x_train = scaler.fit_transform(x_train)\n",
    "x_test = scaler.transform(x_test)"
   ]
  },
  {
   "cell_type": "code",
   "execution_count": 10,
   "id": "1d5e2105",
   "metadata": {},
   "outputs": [
    {
     "name": "stdout",
     "output_type": "stream",
     "text": [
      "Test Accuracy:  0.9\n"
     ]
    }
   ],
   "source": [
    "#We train again with new data\n",
    "rfc.fit(x_train,y_train)\n",
    "\n",
    "print(\"Test Accuracy: \", rfc.score(x_test,y_test))"
   ]
  },
  {
   "cell_type": "markdown",
   "id": "7af9e8ee",
   "metadata": {},
   "source": [
    "### Bootstrap Aggregation (Bagging)\n",
    "\n",
    "Bagging, also known as Bootstrap Aggregation is the ensemble technique used by random forest. Bagging chooses a random sample from the data set. Hence each model is generated from the samples (Bootstrap Samples) provided by the Original Data with replacement known as row sampling. This step of row sampling with replacement is called bootstrap. Now each model is trained independently which generates results. The final output is based on majority voting after combining the results of all models. This step which involves combining all the results and generating output based on majority voting is known as aggregation.\n",
    "\n",
    "RandomForestClassifier has parameter bootstrap whose default value is True. "
   ]
  },
  {
   "cell_type": "markdown",
   "id": "601197d9",
   "metadata": {},
   "source": [
    "## <font color=red>**Exercise**</font> \n",
    "\n",
    "What is out-of-bag score? How it is related to boostrap?<br>\n",
    "Find OOB score of above estimation.(check oob_score parameter of RandomForestClassifier)"
   ]
  },
  {
   "cell_type": "markdown",
   "id": "08e11453",
   "metadata": {},
   "source": [
    "## Random Forest Regression \n",
    "\n",
    "As we see Decision trees do not perform well with continous problem unless we increase depth of the tree by taking risk of overfittin. Fortunetly, averaging many trees with Random Forest Regression improve results drasticaly. "
   ]
  },
  {
   "cell_type": "markdown",
   "id": "ca65b5b4",
   "metadata": {},
   "source": [
    "## <font color=red>**Exercise**</font> \n",
    "\n",
    "Predict 'MEDV' by using Random Forest Regression(use sklearn.ensemble.RandomForestRegressor) in Boston dataset.\n",
    "\n",
    "Try different; \n",
    "\n",
    "Set of Features(Feature importance) <br>\n",
    "Number of estimators <br>\n",
    "Max tree depth <br>\n",
    "\n",
    "And compare results.<br>\n",
    "\n",
    "Optinal: Try to find optimum number of estimators. <br>\n",
    "Optinol: Try to decide removing which tables actually improve the model.(You can add a randomly generated column and compare which features actually are less important that it ) "
   ]
  }
 ],
 "metadata": {
  "kernelspec": {
   "display_name": "Python 3",
   "language": "python",
   "name": "python3"
  },
  "language_info": {
   "codemirror_mode": {
    "name": "ipython",
    "version": 3
   },
   "file_extension": ".py",
   "mimetype": "text/x-python",
   "name": "python",
   "nbconvert_exporter": "python",
   "pygments_lexer": "ipython3",
   "version": "3.8.5"
  }
 },
 "nbformat": 4,
 "nbformat_minor": 5
}
